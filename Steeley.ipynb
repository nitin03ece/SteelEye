{
 "cells": [
  {
   "cell_type": "code",
   "execution_count": 1,
   "metadata": {},
   "outputs": [
    {
     "data": {
      "text/html": [
       "<style>.container {width: 90% !important; }</style>"
      ],
      "text/plain": [
       "<IPython.core.display.HTML object>"
      ]
     },
     "metadata": {},
     "output_type": "display_data"
    }
   ],
   "source": [
    "from IPython.core.display import display, HTML\n",
    "display(HTML(\"<style>.container {width: 90% !important; }</style>\"))"
   ]
  },
  {
   "cell_type": "code",
   "execution_count": 2,
   "metadata": {},
   "outputs": [],
   "source": [
    "import re\n",
    "import csv\n",
    "import sys\n",
    "import boto3\n",
    "import requests\n",
    "import boto3.s3\n",
    "from zipfile import ZipFile\n",
    "import xml.etree.ElementTree as ET"
   ]
  },
  {
   "cell_type": "markdown",
   "metadata": {},
   "source": [
    "## Step 1: Download the xml from this [Link](https://registers.esma.europa.eu/solr/esma_registers_firds_files/select?q=*&fq=publication_date:%5B2021-01-17T00:00:00Z+TO+2021-01-19T23:59:59Z%5D&wt=xml&indent=true&start=0&rows=100)\n",
    "## Step 2: From the xml, please parse through to the first download link whose file_type is DLTINS and download the zip"
   ]
  },
  {
   "cell_type": "code",
   "execution_count": 3,
   "metadata": {},
   "outputs": [
    {
     "name": "stdout",
     "output_type": "stream",
     "text": [
      "http://firds.esma.europa.eu/firds/DLTINS_20210117_01of01.zip\n"
     ]
    }
   ],
   "source": [
    "tree = ET.parse('steeley.xml')\n",
    "root = tree.getroot()\n",
    "\n",
    "download_Zip = None\n",
    "for item in root.iter('str'):\n",
    "    if item.attrib['name'] == 'download_link' and 'DLTINS' in item.text:\n",
    "        download_Zip = item.text\n",
    "        break\n",
    "        \n",
    "print(download_Zip)\n",
    "req = requests.get(download_Zip)\n",
    "fileName = \"steeley.zip\"\n",
    "\n",
    "with open(fileName, 'wb') as file:\n",
    "    file.write(req.content)"
   ]
  },
  {
   "cell_type": "markdown",
   "metadata": {},
   "source": [
    "## Step 3: Extract the xml from the zip."
   ]
  },
  {
   "cell_type": "code",
   "execution_count": 4,
   "metadata": {},
   "outputs": [
    {
     "name": "stdout",
     "output_type": "stream",
     "text": [
      "File Name                                             Modified             Size\n",
      "DLTINS_20210117_01of01.xml                     2021-01-17 01:17:12    143278061\n"
     ]
    }
   ],
   "source": [
    "try:\n",
    "    with ZipFile(fileName, 'r') as file:\n",
    "        file.printdir()\n",
    "        file.extractall()\n",
    "\n",
    "except Exception as e:\n",
    "    print(e)"
   ]
  },
  {
   "cell_type": "markdown",
   "metadata": {},
   "source": [
    "## Step 4: Convert the contents of the xml into a CSV with the following header:\n",
    "##### FinInstrmGnlAttrbts.Id,   FinInstrmGnlAttrbts.FullNm,   FinInstrmGnlAttrbts.ClssfctnTp,   FinInstrmGnlAttrbts.CmmdtyDerivInd,   FinInstrmGnlAttrbts.NtnlCcy,   Issr"
   ]
  },
  {
   "cell_type": "code",
   "execution_count": 5,
   "metadata": {},
   "outputs": [],
   "source": [
    "tree = ET.parse('DLTINS_20210117_01of01.xml')\n",
    "root = tree.getroot()\n",
    "\n",
    "header = ['FinInstrmGnlAttrbts.Id', 'FinInstrmGnlAttrbts.FullNm', 'FinInstrmGnlAttrbts.ClssfctnTp', 'FinInstrmGnlAttrbts.CmmdtyDerivInd', 'FinInstrmGnlAttrbts.NtnlCcy', 'Issr']\n",
    "ID, FullNm, ClssfctnTp, CmmdtyDerivInd, NtnlCcy, Issr = 0, 1, 2, 3, 4, 5\n",
    "\n",
    "OutPutFile = 'steeley.csv'\n",
    "with open(OutPutFile, 'w', encoding='UTF8', newline='') as f:\n",
    "    writer = csv.writer(f)\n",
    "    writer.writerow(header)\n",
    "    \n",
    "    for index, item in enumerate(root.iter()):\n",
    "\n",
    "        if \"FinInstrmGnlAttrbts\" in item.tag:\n",
    "            data = [None] * 6\n",
    "\n",
    "            for child in item:\n",
    "                if \"Id\" in child.tag:\n",
    "                    data[ID] = child.text if re.search(\"Id$\", child.tag) is not None else \"\"\n",
    "\n",
    "                elif \"FullNm\" in child.tag:\n",
    "                    data[FullNm] = child.text if re.search(\"FullNm$\", child.tag) is not None else \"\"\n",
    "\n",
    "                elif \"ClssfctnTp\" in child.tag:\n",
    "                    data[ClssfctnTp] = child.text if re.search(\"ClssfctnTp$\", child.tag) is not None else \"\"\n",
    "\n",
    "                elif \"CmmdtyDerivInd\" in child.tag:\n",
    "                    data[CmmdtyDerivInd] = child.text if re.search(\"CmmdtyDerivInd$\", child.tag) is not None else \"\"\n",
    "\n",
    "                elif \"NtnlCcy\" in child.tag:\n",
    "                    data[NtnlCcy] = child.text if re.search(\"NtnlCcy$\", child.tag) is not None else \"\"\n",
    "\n",
    "        elif re.search(\"Issr$\", item.tag):\n",
    "            data[Issr] = item.text if re.search(\"Issr$\", item.tag) is not None else \"\"\n",
    "            \n",
    "            writer.writerow(data)"
   ]
  },
  {
   "cell_type": "markdown",
   "metadata": {},
   "source": [
    "## Step 5: Store the csv from step 4 in an AWS S3 bucket"
   ]
  },
  {
   "cell_type": "code",
   "execution_count": 6,
   "metadata": {},
   "outputs": [],
   "source": [
    "s3 = boto3.client('s3')\n",
    "bucketName = \"steeleye03\"\n",
    "bucket = s3.create_bucket(Bucket=bucketName)\n",
    "s3.upload_file(OutPutFile, \"steeleye03\", \"s3_\"+OutPutFile)"
   ]
  },
  {
   "cell_type": "code",
   "execution_count": null,
   "metadata": {},
   "outputs": [],
   "source": []
  }
 ],
 "metadata": {
  "kernelspec": {
   "display_name": "Python 3",
   "language": "python",
   "name": "python3"
  },
  "language_info": {
   "codemirror_mode": {
    "name": "ipython",
    "version": 3
   },
   "file_extension": ".py",
   "mimetype": "text/x-python",
   "name": "python",
   "nbconvert_exporter": "python",
   "pygments_lexer": "ipython3",
   "version": "3.8.7"
  }
 },
 "nbformat": 4,
 "nbformat_minor": 4
}
